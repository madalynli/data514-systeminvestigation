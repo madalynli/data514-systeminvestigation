{
 "cells": [
  {
   "cell_type": "markdown",
   "id": "1bdb5582",
   "metadata": {},
   "source": [
    "<h1><center>System Investigation Part 4 - Airbnb Data Cleaning</center></h1>\n",
    "<center>Madalyn Li</center>\n",
    "<center>DATA 514 Spring 2022</center>"
   ]
  },
  {
   "cell_type": "markdown",
   "id": "7f50b031",
   "metadata": {},
   "source": [
    "The purpose of this notebook is to document the steps taken to produce the cleaned and final versions of the Airbnb datasets used for the analysis and the queries in Part 4 of the System Investigation Project. Cleaning and condensing the Airbnb datasets is necessary as part of the analysis because the queries do not require all the columns on the original dataset and condensing it actually saves a lot of processing time and storage space. \n",
    "\n",
    "The Airbnb data is derived from the source [Inside Airbnb](http://insideairbnb.com/get-the-data/) which contains files of data for airbnb listings, calendar bookings, reviews, and neighborhoods of various cities and countries. For the purpose of this project, we were asked to focus on the following cities in the US: Los Angeles, Portland, Salem, and San Diego. \n",
    "\n",
    "\n",
    "The three question/queries that I have selected to answer for this project are listed as follows:\n",
    "1. Display list of stays in Portland, OR with details: name, neighbourhood, room type, how many guests it accommodates, property type and amenities, per night’s cost and is available for the next two days in descending order of rating.\n",
    "2. Are there any neighbourhoods in any of the cities that don’t have any listings?\n",
    "3. For each city, how many reviews are received for December of each year?\n",
    "\n",
    "For the queries listed above, I will only be cleaning two of the data files for each city. They are Listings and Reviews. More details about the process and steps to clean these files are mentioned in more detail below. For the Neighborhoods and Calendar columns, there was not much to update or alter in the original files so for simplicity, we can keep the original files as is that are directly downloaded from the site. "
   ]
  },
  {
   "cell_type": "code",
   "execution_count": 1,
   "id": "19fd34a0",
   "metadata": {},
   "outputs": [],
   "source": [
    "import pandas as pd"
   ]
  },
  {
   "cell_type": "markdown",
   "id": "3fff3e24",
   "metadata": {},
   "source": [
    "<b>Airbnb Listings Dataset</b>\n",
    "\n",
    "This section includes the code used to clean and condense the Listings data for all cities. For Los Angeles, Salem, and San Diego, we only need to obtain the columns 'id' and 'neighbourhood_cleansed' for query 2 to determine distinct neighborhoods in each city. However, for Portland, we require more columns to answer query 1. Additionally, some string manipulation is done on the amenities column in the Portland dataset to remove commas and list indicator values because when Spark reads in the data, it confuses the list within amenities to be individual values for the table. "
   ]
  },
  {
   "cell_type": "code",
   "execution_count": 2,
   "id": "96f0f1ce",
   "metadata": {},
   "outputs": [],
   "source": [
    "# Read the original LA listings csv datafile downloaded from the Inside Airbnb site\n",
    "LA_listings = pd.read_csv('/Users/madalynli/Desktop/DATA_514/AirbnbData/LA_listings.csv')\n",
    "\n",
    "# Condense rows needed for the LA listings data\n",
    "LA_listings = LA_listings[['id', 'neighbourhood_cleansed']]\n",
    "\n",
    "# Export updated LA listings data to a new csv file\n",
    "LA_listings.to_csv('/Users/madalynli/Desktop/Airbnb_DataFiles/LA_listings.csv')"
   ]
  },
  {
   "cell_type": "code",
   "execution_count": 3,
   "id": "e6555f9f",
   "metadata": {},
   "outputs": [
    {
     "name": "stderr",
     "output_type": "stream",
     "text": [
      "/var/folders/37/14fcqn590zvbzsnhy68gxmr40000gn/T/ipykernel_7706/4023129981.py:10: FutureWarning: The default value of regex will change from True to False in a future version. In addition, single character regular expressions will *not* be treated as literal strings when regex=True.\n",
      "  Portland_listings['amenities'] = Portland_listings['amenities'].str.replace('[', '')\n",
      "/var/folders/37/14fcqn590zvbzsnhy68gxmr40000gn/T/ipykernel_7706/4023129981.py:11: FutureWarning: The default value of regex will change from True to False in a future version. In addition, single character regular expressions will *not* be treated as literal strings when regex=True.\n",
      "  Portland_listings['amenities'] = Portland_listings['amenities'].str.replace(']', '')\n"
     ]
    }
   ],
   "source": [
    "# Read the original Portland listings csv datafile downloaded from the Inside Airbnb site\n",
    "Portland_listings = pd.read_csv('/Users/madalynli/Desktop/DATA_514/AirbnbData/Portland_listings.csv')\n",
    "\n",
    "# Condense rows needed for the Portland listings data\n",
    "Portland_listings = Portland_listings[['id', 'name', 'neighbourhood_cleansed', 'property_type', 'room_type', \n",
    "                                       'accommodates', 'amenities', 'price', 'has_availability', 'availability_30', \n",
    "                                       'review_scores_rating']]\n",
    "\n",
    "# Replace some string characters from Portland listing amenities \n",
    "Portland_listings['amenities'] = Portland_listings['amenities'].str.replace('[', '')\n",
    "Portland_listings['amenities'] = Portland_listings['amenities'].str.replace(']', '')\n",
    "Portland_listings['amenities'] = Portland_listings['amenities'].str.replace(',', '&')\n",
    "\n",
    "# Export updated Portland listings data to a new csv file\n",
    "Portland_listings.to_csv('/Users/madalynli/Desktop/Airbnb_DataFiles/Portland_listings.csv')"
   ]
  },
  {
   "cell_type": "code",
   "execution_count": 4,
   "id": "0e9c959e",
   "metadata": {},
   "outputs": [],
   "source": [
    "# Read the original Salem listings csv datafile downloaded from the Inside Airbnb site\n",
    "Salem_listings = pd.read_csv('/Users/madalynli/Desktop/DATA_514/AirbnbData/Salem_listings.csv')\n",
    "\n",
    "# Condense rows needed for the Salem listings data\n",
    "Salem_listings = Salem_listings[['id', 'neighbourhood_cleansed']]\n",
    "\n",
    "# Export updated Salem listings data to a new csv file\n",
    "Salem_listings.to_csv('/Users/madalynli/Desktop/Airbnb_DataFiles/Salem_listings.csv')"
   ]
  },
  {
   "cell_type": "code",
   "execution_count": 5,
   "id": "c4909e61",
   "metadata": {},
   "outputs": [],
   "source": [
    "# Read the original SD listings csv datafile downloaded from the Inside Airbnb site\n",
    "SD_listings = pd.read_csv('/Users/madalynli/Desktop/DATA_514/AirbnbData/SD_listings.csv')\n",
    "\n",
    "# Condense rows needed for the SD listings data\n",
    "SD_listings = SD_listings[['id', 'neighbourhood_cleansed']]\n",
    "\n",
    "# Export updated SD listings data to a new csv file\n",
    "SD_listings.to_csv('/Users/madalynli/Desktop/Airbnb_DataFiles/SD_listings.csv')"
   ]
  },
  {
   "cell_type": "markdown",
   "id": "f7909f3d",
   "metadata": {},
   "source": [
    "<b>Airbnb Reviews Dataset</b>\n",
    "\n",
    "This section includes the code used to clean and condense the Reviews data for all cities. For all cities, we will condense and limit the columns to only contain listing_id, id, and date. This data will be required to answer query 3. "
   ]
  },
  {
   "cell_type": "code",
   "execution_count": 6,
   "id": "81dd4a1b",
   "metadata": {},
   "outputs": [],
   "source": [
    "# Read the original LA reviews csv datafile downloaded from the Inside Airbnb site\n",
    "LA_reviews = pd.read_csv('/Users/madalynli/Desktop/DATA_514/AirbnbData/LA_reviews.csv')\n",
    "\n",
    "# Condense rows needed for the LA reviews data\n",
    "LA_reviews = LA_reviews[['listing_id', 'id', 'date']]\n",
    "\n",
    "# Export updated LA reviews data to a new csv file\n",
    "LA_reviews.to_csv('/Users/madalynli/Desktop/Airbnb_DataFiles/LA_reviews.csv')"
   ]
  },
  {
   "cell_type": "code",
   "execution_count": 7,
   "id": "ad77d512",
   "metadata": {},
   "outputs": [],
   "source": [
    "# Read the original Portland reviews csv datafile downloaded from the Inside Airbnb site\n",
    "Portland_reviews = pd.read_csv('/Users/madalynli/Desktop/DATA_514/AirbnbData/Portland_reviews.csv')\n",
    "\n",
    "# Condense rows needed for the Portland reviews data\n",
    "Portland_reviews = Portland_reviews[['listing_id', 'id', 'date']]\n",
    "\n",
    "# Export updated Portland reviews data to a new csv file\n",
    "Portland_reviews.to_csv('/Users/madalynli/Desktop/Airbnb_DataFiles/Portland_reviews.csv')"
   ]
  },
  {
   "cell_type": "code",
   "execution_count": 8,
   "id": "817ce8f9",
   "metadata": {},
   "outputs": [],
   "source": [
    "# Read the original Salem reviews csv datafile downloaded from the Inside Airbnb site\n",
    "Salem_reviews = pd.read_csv('/Users/madalynli/Desktop/DATA_514/AirbnbData/Salem_reviews.csv')\n",
    "\n",
    "# Condense rows needed for the Salem reviews data\n",
    "Salem_reviews = Salem_reviews[['listing_id', 'id', 'date']]\n",
    "\n",
    "# Export updated Salem reviews data to a new csv file\n",
    "Salem_reviews.to_csv('/Users/madalynli/Desktop/Airbnb_DataFiles/Salem_reviews.csv')"
   ]
  },
  {
   "cell_type": "code",
   "execution_count": 9,
   "id": "5ef55240",
   "metadata": {},
   "outputs": [],
   "source": [
    "# Read the original SD reviews csv datafile downloaded from the Inside Airbnb site\n",
    "SD_reviews = pd.read_csv('/Users/madalynli/Desktop/DATA_514/AirbnbData/SD_reviews.csv')\n",
    "\n",
    "# Condense rows needed for the SD reviews data\n",
    "SD_reviews = SD_reviews[['listing_id', 'id', 'date']]\n",
    "\n",
    "# Export updated SD reviews data to a new csv file\n",
    "SD_reviews.to_csv('/Users/madalynli/Desktop/Airbnb_DataFiles/SD_reviews.csv')"
   ]
  },
  {
   "cell_type": "code",
   "execution_count": null,
   "id": "51cdddeb",
   "metadata": {},
   "outputs": [],
   "source": []
  }
 ],
 "metadata": {
  "kernelspec": {
   "display_name": "Python 3 (ipykernel)",
   "language": "python",
   "name": "python3"
  },
  "language_info": {
   "codemirror_mode": {
    "name": "ipython",
    "version": 3
   },
   "file_extension": ".py",
   "mimetype": "text/x-python",
   "name": "python",
   "nbconvert_exporter": "python",
   "pygments_lexer": "ipython3",
   "version": "3.9.7"
  }
 },
 "nbformat": 4,
 "nbformat_minor": 5
}
