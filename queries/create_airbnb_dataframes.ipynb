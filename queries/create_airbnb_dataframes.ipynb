{
 "cells": [
  {
   "cell_type": "markdown",
   "metadata": {
    "application/vnd.databricks.v1+cell": {
     "inputWidgets": {},
     "nuid": "96816ed7-b08a-4ca3-abb9-f99880c3535d",
     "showTitle": false,
     "title": ""
    }
   },
   "source": [
    "## Creating Airbnb DataFrames & Views\n",
    "\n",
    "This notebook shows the code used to load the files into Spark to create a Spark DataFrame and create a Global View with the DataFrame for querying."
   ]
  },
  {
   "cell_type": "code",
   "execution_count": 0,
   "metadata": {
    "application/vnd.databricks.v1+cell": {
     "inputWidgets": {},
     "nuid": "6482be4c-f067-47c9-b0ac-35c938b94601",
     "showTitle": false,
     "title": ""
    }
   },
   "outputs": [
    {
     "data": {
      "text/html": [
       "<style scoped>\n",
       "  .ansiout {\n",
       "    display: block;\n",
       "    unicode-bidi: embed;\n",
       "    white-space: pre-wrap;\n",
       "    word-wrap: break-word;\n",
       "    word-break: break-all;\n",
       "    font-family: \"Source Code Pro\", \"Menlo\", monospace;;\n",
       "    font-size: 13px;\n",
       "    color: #555;\n",
       "    margin-left: 4px;\n",
       "    line-height: 19px;\n",
       "  }\n",
       "</style>\n",
       "<div class=\"ansiout\"></div>"
      ]
     },
     "metadata": {
      "application/vnd.databricks.v1+output": {
       "addedWidgets": {},
       "arguments": {},
       "data": "<div class=\"ansiout\"></div>",
       "datasetInfos": [],
       "metadata": {},
       "removedWidgets": [],
       "type": "html"
      }
     },
     "output_type": "display_data"
    }
   ],
   "source": [
    "# Create LA_calendar DataFrame\n",
    "LA_calendar = spark.read.format('csv').option('header', 'true').load('/FileStore/tables/LA_calendar.csv')\n",
    "\n",
    "# Create LA_listings DataFrame\n",
    "LA_listings = spark.read.format('csv').option('header', 'true').load('/FileStore/tables/LA_listings.csv')\n",
    "\n",
    "# Create LA_neighborhoods DataFrame\n",
    "LA_neighborhoods = spark.read.format('csv').option('header', 'true').load('/FileStore/tables/LA_neighbourhoods.csv')\n",
    "\n",
    "# Create LA_reviews DataFrame\n",
    "LA_reviews = spark.read.format('csv').option('header', 'true').load('/FileStore/tables/LA_reviews.csv')"
   ]
  },
  {
   "cell_type": "code",
   "execution_count": 0,
   "metadata": {
    "application/vnd.databricks.v1+cell": {
     "inputWidgets": {},
     "nuid": "caaef5b5-2c7c-4543-acfd-c648c6f2bbca",
     "showTitle": false,
     "title": ""
    }
   },
   "outputs": [
    {
     "data": {
      "text/html": [
       "<style scoped>\n",
       "  .ansiout {\n",
       "    display: block;\n",
       "    unicode-bidi: embed;\n",
       "    white-space: pre-wrap;\n",
       "    word-wrap: break-word;\n",
       "    word-break: break-all;\n",
       "    font-family: \"Source Code Pro\", \"Menlo\", monospace;;\n",
       "    font-size: 13px;\n",
       "    color: #555;\n",
       "    margin-left: 4px;\n",
       "    line-height: 19px;\n",
       "  }\n",
       "</style>\n",
       "<div class=\"ansiout\"></div>"
      ]
     },
     "metadata": {
      "application/vnd.databricks.v1+output": {
       "addedWidgets": {},
       "arguments": {},
       "data": "<div class=\"ansiout\"></div>",
       "datasetInfos": [],
       "metadata": {},
       "removedWidgets": [],
       "type": "html"
      }
     },
     "output_type": "display_data"
    }
   ],
   "source": [
    "# Create Global View for LA_calendar\n",
    "LA_calendar.createGlobalTempView('LA_calendar')\n",
    "\n",
    "# Create Global View for LA_listings\n",
    "LA_listings.createGlobalTempView('LA_listings')\n",
    "\n",
    "# Create Global View for LA_neighborhoods\n",
    "LA_neighborhoods.createGlobalTempView('LA_neighborhoods')\n",
    "\n",
    "# Create Global View for LA_reviews\n",
    "LA_reviews.createGlobalTempView('LA_reviews')"
   ]
  },
  {
   "cell_type": "code",
   "execution_count": 0,
   "metadata": {
    "application/vnd.databricks.v1+cell": {
     "inputWidgets": {},
     "nuid": "bd82bb99-1479-4d5c-be10-8c36df0f1d44",
     "showTitle": false,
     "title": ""
    }
   },
   "outputs": [
    {
     "data": {
      "text/html": [
       "<style scoped>\n",
       "  .ansiout {\n",
       "    display: block;\n",
       "    unicode-bidi: embed;\n",
       "    white-space: pre-wrap;\n",
       "    word-wrap: break-word;\n",
       "    word-break: break-all;\n",
       "    font-family: \"Source Code Pro\", \"Menlo\", monospace;;\n",
       "    font-size: 13px;\n",
       "    color: #555;\n",
       "    margin-left: 4px;\n",
       "    line-height: 19px;\n",
       "  }\n",
       "</style>\n",
       "<div class=\"ansiout\"></div>"
      ]
     },
     "metadata": {
      "application/vnd.databricks.v1+output": {
       "addedWidgets": {},
       "arguments": {},
       "data": "<div class=\"ansiout\"></div>",
       "datasetInfos": [],
       "metadata": {},
       "removedWidgets": [],
       "type": "html"
      }
     },
     "output_type": "display_data"
    }
   ],
   "source": [
    "# Create Portland_calendar DataFrame\n",
    "Portland_calendar = spark.read.format('csv').option('header', 'true').load('/FileStore/tables/Portland_calendar.csv')\n",
    "\n",
    "# Create Portland_listings DataFrame\n",
    "Portland_listings = spark.read.format('csv').option('header', 'true').load('/FileStore/tables/Portland_listings.csv')\n",
    "\n",
    "# Create Portland_neighborhoods DataFrame\n",
    "Portland_neighborhoods = spark.read.format('csv').option('header', 'true').load('/FileStore/tables/Portland_neighbourhoods.csv')\n",
    "\n",
    "# Create Portland_reviews DataFrame\n",
    "Portland_reviews = spark.read.format('csv').option('header', 'true').load('/FileStore/tables/Portland_reviews.csv')"
   ]
  },
  {
   "cell_type": "code",
   "execution_count": 0,
   "metadata": {
    "application/vnd.databricks.v1+cell": {
     "inputWidgets": {},
     "nuid": "bfbba17a-6d74-474d-a307-169b645949b1",
     "showTitle": false,
     "title": ""
    }
   },
   "outputs": [
    {
     "data": {
      "text/html": [
       "<style scoped>\n",
       "  .ansiout {\n",
       "    display: block;\n",
       "    unicode-bidi: embed;\n",
       "    white-space: pre-wrap;\n",
       "    word-wrap: break-word;\n",
       "    word-break: break-all;\n",
       "    font-family: \"Source Code Pro\", \"Menlo\", monospace;;\n",
       "    font-size: 13px;\n",
       "    color: #555;\n",
       "    margin-left: 4px;\n",
       "    line-height: 19px;\n",
       "  }\n",
       "</style>\n",
       "<div class=\"ansiout\"></div>"
      ]
     },
     "metadata": {
      "application/vnd.databricks.v1+output": {
       "addedWidgets": {},
       "arguments": {},
       "data": "<div class=\"ansiout\"></div>",
       "datasetInfos": [],
       "metadata": {},
       "removedWidgets": [],
       "type": "html"
      }
     },
     "output_type": "display_data"
    }
   ],
   "source": [
    "# Create Global View for Portland_calendar\n",
    "Portland_calendar.createGlobalTempView('Portland_calendar')\n",
    "\n",
    "# Create Global View for Portland_listings\n",
    "Portland_listings.createGlobalTempView('Portland_listings')\n",
    "\n",
    "# Create Global View for Portland_neighborhoods\n",
    "Portland_neighborhoods.createGlobalTempView('Portland_neighborhoods')\n",
    "\n",
    "# Create Global View for Portland_reviews\n",
    "Portland_reviews.createGlobalTempView('Portland_reviews')"
   ]
  },
  {
   "cell_type": "code",
   "execution_count": 0,
   "metadata": {
    "application/vnd.databricks.v1+cell": {
     "inputWidgets": {},
     "nuid": "b5f66379-6f7f-42ec-8e82-d0e0926a1721",
     "showTitle": false,
     "title": ""
    }
   },
   "outputs": [
    {
     "data": {
      "text/html": [
       "<style scoped>\n",
       "  .ansiout {\n",
       "    display: block;\n",
       "    unicode-bidi: embed;\n",
       "    white-space: pre-wrap;\n",
       "    word-wrap: break-word;\n",
       "    word-break: break-all;\n",
       "    font-family: \"Source Code Pro\", \"Menlo\", monospace;;\n",
       "    font-size: 13px;\n",
       "    color: #555;\n",
       "    margin-left: 4px;\n",
       "    line-height: 19px;\n",
       "  }\n",
       "</style>\n",
       "<div class=\"ansiout\"></div>"
      ]
     },
     "metadata": {
      "application/vnd.databricks.v1+output": {
       "addedWidgets": {},
       "arguments": {},
       "data": "<div class=\"ansiout\"></div>",
       "datasetInfos": [],
       "metadata": {},
       "removedWidgets": [],
       "type": "html"
      }
     },
     "output_type": "display_data"
    }
   ],
   "source": [
    "# Create Salem_calendar DataFrame\n",
    "Salem_calendar = spark.read.format('csv').option('header', 'true').load('/FileStore/tables/Salem_calendar.csv')\n",
    "\n",
    "# Create Salem_listings DataFrame\n",
    "Salem_listings = spark.read.format('csv').option('header', 'true').load('/FileStore/tables/Salem_listings.csv')\n",
    "\n",
    "# Create Salem_neighborhoods DataFrame\n",
    "Salem_neighborhoods = spark.read.format('csv').option('header', 'true').load('/FileStore/tables/Salem_neighbourhoods.csv')\n",
    "\n",
    "# Create Salem_reviews DataFrame\n",
    "Salem_reviews = spark.read.format('csv').option('header', 'true').load('/FileStore/tables/Salem_reviews.csv')"
   ]
  },
  {
   "cell_type": "code",
   "execution_count": 0,
   "metadata": {
    "application/vnd.databricks.v1+cell": {
     "inputWidgets": {},
     "nuid": "07142836-b569-48ad-9da3-7fcc351b7830",
     "showTitle": false,
     "title": ""
    }
   },
   "outputs": [
    {
     "data": {
      "text/html": [
       "<style scoped>\n",
       "  .ansiout {\n",
       "    display: block;\n",
       "    unicode-bidi: embed;\n",
       "    white-space: pre-wrap;\n",
       "    word-wrap: break-word;\n",
       "    word-break: break-all;\n",
       "    font-family: \"Source Code Pro\", \"Menlo\", monospace;;\n",
       "    font-size: 13px;\n",
       "    color: #555;\n",
       "    margin-left: 4px;\n",
       "    line-height: 19px;\n",
       "  }\n",
       "</style>\n",
       "<div class=\"ansiout\"></div>"
      ]
     },
     "metadata": {
      "application/vnd.databricks.v1+output": {
       "addedWidgets": {},
       "arguments": {},
       "data": "<div class=\"ansiout\"></div>",
       "datasetInfos": [],
       "metadata": {},
       "removedWidgets": [],
       "type": "html"
      }
     },
     "output_type": "display_data"
    }
   ],
   "source": [
    "# Create Global View for Salem_calendar\n",
    "Salem_calendar.createGlobalTempView('Salem_calendar')\n",
    "\n",
    "# Create Global View for Salem_listings\n",
    "Salem_listings.createGlobalTempView('Salem_listings')\n",
    "\n",
    "# Create Global View for Salem_neighborhoods\n",
    "Salem_neighborhoods.createGlobalTempView('Salem_neighborhoods')\n",
    "\n",
    "# Create Global View for Salem_reviews\n",
    "Salem_reviews.createGlobalTempView('Salem_reviews')"
   ]
  },
  {
   "cell_type": "code",
   "execution_count": 0,
   "metadata": {
    "application/vnd.databricks.v1+cell": {
     "inputWidgets": {},
     "nuid": "db9631f6-bb4a-42ca-8a3c-0d48af932331",
     "showTitle": false,
     "title": ""
    }
   },
   "outputs": [
    {
     "data": {
      "text/html": [
       "<style scoped>\n",
       "  .ansiout {\n",
       "    display: block;\n",
       "    unicode-bidi: embed;\n",
       "    white-space: pre-wrap;\n",
       "    word-wrap: break-word;\n",
       "    word-break: break-all;\n",
       "    font-family: \"Source Code Pro\", \"Menlo\", monospace;;\n",
       "    font-size: 13px;\n",
       "    color: #555;\n",
       "    margin-left: 4px;\n",
       "    line-height: 19px;\n",
       "  }\n",
       "</style>\n",
       "<div class=\"ansiout\"></div>"
      ]
     },
     "metadata": {
      "application/vnd.databricks.v1+output": {
       "addedWidgets": {},
       "arguments": {},
       "data": "<div class=\"ansiout\"></div>",
       "datasetInfos": [],
       "metadata": {},
       "removedWidgets": [],
       "type": "html"
      }
     },
     "output_type": "display_data"
    }
   ],
   "source": [
    "# Create SD_calendar DataFrame\n",
    "SD_calendar = spark.read.format('csv').option('header', 'true').load('/FileStore/tables/SD_calendar.csv')\n",
    "\n",
    "# Create SD_listings DataFrame\n",
    "SD_listings = spark.read.format('csv').option('header', 'true').load('/FileStore/tables/SD_listings.csv')\n",
    "\n",
    "# Create SD_neighborhoods DataFrame\n",
    "SD_neighborhoods = spark.read.format('csv').option('header', 'true').load('/FileStore/tables/SD_neighbourhoods.csv')\n",
    "\n",
    "# Create SD_reviews DataFrame\n",
    "SD_reviews = spark.read.format('csv').option('header', 'true').load('/FileStore/tables/SD_reviews.csv')"
   ]
  },
  {
   "cell_type": "code",
   "execution_count": 0,
   "metadata": {
    "application/vnd.databricks.v1+cell": {
     "inputWidgets": {},
     "nuid": "a7a02cad-cd67-4d66-8afa-b557da9b1b74",
     "showTitle": false,
     "title": ""
    }
   },
   "outputs": [
    {
     "data": {
      "text/html": [
       "<style scoped>\n",
       "  .ansiout {\n",
       "    display: block;\n",
       "    unicode-bidi: embed;\n",
       "    white-space: pre-wrap;\n",
       "    word-wrap: break-word;\n",
       "    word-break: break-all;\n",
       "    font-family: \"Source Code Pro\", \"Menlo\", monospace;;\n",
       "    font-size: 13px;\n",
       "    color: #555;\n",
       "    margin-left: 4px;\n",
       "    line-height: 19px;\n",
       "  }\n",
       "</style>\n",
       "<div class=\"ansiout\"></div>"
      ]
     },
     "metadata": {
      "application/vnd.databricks.v1+output": {
       "addedWidgets": {},
       "arguments": {},
       "data": "<div class=\"ansiout\"></div>",
       "datasetInfos": [],
       "metadata": {},
       "removedWidgets": [],
       "type": "html"
      }
     },
     "output_type": "display_data"
    }
   ],
   "source": [
    "# Create Global View for SD_calendar\n",
    "SD_calendar.createGlobalTempView('SD_calendar')\n",
    "\n",
    "# Create Global View for SD_listings\n",
    "SD_listings.createGlobalTempView('SD_listings')\n",
    "\n",
    "# Create Global View for SD_neighborhoods\n",
    "SD_neighborhoods.createGlobalTempView('SD_neighborhoods')\n",
    "\n",
    "# Create Global View for SD_reviews\n",
    "SD_reviews.createGlobalTempView('SD_reviews')"
   ]
  }
 ],
 "metadata": {
  "application/vnd.databricks.v1+notebook": {
   "dashboards": [],
   "language": "python",
   "notebookMetadata": {
    "pythonIndentUnit": 4
   },
   "notebookName": "Airbnb_DF_and_Views",
   "notebookOrigID": 12158998359678,
   "widgets": {}
  },
  "kernelspec": {
   "display_name": "Python 3 (ipykernel)",
   "language": "python",
   "name": "python3"
  },
  "language_info": {
   "codemirror_mode": {
    "name": "ipython",
    "version": 3
   },
   "file_extension": ".py",
   "mimetype": "text/x-python",
   "name": "python",
   "nbconvert_exporter": "python",
   "pygments_lexer": "ipython3",
   "version": "3.9.7"
  }
 },
 "nbformat": 4,
 "nbformat_minor": 1
}
